{
 "cells": [
  {
   "cell_type": "code",
   "execution_count": 1,
   "id": "0ac11a98",
   "metadata": {},
   "outputs": [
    {
     "name": "stderr",
     "output_type": "stream",
     "text": [
      "2025-08-14 14:03:26.728048: I external/local_tsl/tsl/cuda/cudart_stub.cc:31] Could not find cuda drivers on your machine, GPU will not be used.\n",
      "2025-08-14 14:03:26.754172: E external/local_xla/xla/stream_executor/cuda/cuda_dnn.cc:9261] Unable to register cuDNN factory: Attempting to register factory for plugin cuDNN when one has already been registered\n",
      "2025-08-14 14:03:26.754206: E external/local_xla/xla/stream_executor/cuda/cuda_fft.cc:607] Unable to register cuFFT factory: Attempting to register factory for plugin cuFFT when one has already been registered\n",
      "2025-08-14 14:03:26.755083: E external/local_xla/xla/stream_executor/cuda/cuda_blas.cc:1515] Unable to register cuBLAS factory: Attempting to register factory for plugin cuBLAS when one has already been registered\n",
      "2025-08-14 14:03:26.759627: I external/local_tsl/tsl/cuda/cudart_stub.cc:31] Could not find cuda drivers on your machine, GPU will not be used.\n",
      "2025-08-14 14:03:26.760369: I tensorflow/core/platform/cpu_feature_guard.cc:182] This TensorFlow binary is optimized to use available CPU instructions in performance-critical operations.\n",
      "To enable the following instructions: AVX2 FMA, in other operations, rebuild TensorFlow with the appropriate compiler flags.\n",
      "2025-08-14 14:03:27.568939: W tensorflow/compiler/tf2tensorrt/utils/py_utils.cc:38] TF-TRT Warning: Could not find TensorRT\n"
     ]
    },
    {
     "name": "stdout",
     "output_type": "stream",
     "text": [
      "Response JSON dari Server: {'predictions': [[0.0775459334, 0.779365778, 0.142757297, 0.000330977957]]}\n",
      "\n",
      "Hasil Prediksi (softmax): [0.0775459334, 0.779365778, 0.142757297, 0.000330977957]\n",
      "Prediksi Kelas Harga (0-3): 1\n"
     ]
    }
   ],
   "source": [
    "import requests\n",
    "import json\n",
    "import tensorflow as tf\n",
    "import base64\n",
    "\n",
    "# --- HELPER UNTUK KONVERSI DATA ---\n",
    "# Fungsi ini mengubah kamus Python biasa menjadi format tf.Example\n",
    "def _create_tf_example(features):\n",
    "    feature_map = {}\n",
    "    for key, value in features.items():\n",
    "        if isinstance(value, int):\n",
    "            feature_map[key] = tf.train.Feature(int64_list=tf.train.Int64List(value=[value]))\n",
    "        elif isinstance(value, float):\n",
    "            feature_map[key] = tf.train.Feature(float_list=tf.train.FloatList(value=[value]))\n",
    "        # Anda bisa tambahkan elif untuk string jika ada\n",
    "    return tf.train.Example(features=tf.train.Features(feature=feature_map))\n",
    "\n",
    "\n",
    "# --- KODE UTAMA ---\n",
    "# Data sampel yang akan dikirim\n",
    "sample_data = {\n",
    "    \"battery_power\": 842, \"blue\": 0, \"clock_speed\": 2.2, \"dual_sim\": 0,\n",
    "    \"fc\": 1, \"four_g\": 0, \"int_memory\": 7, \"m_dep\": 0.6, \"mobile_wt\": 188,\n",
    "    \"n_cores\": 2, \"pc\": 2, \"px_height\": 20, \"px_width\": 756, \"ram\": 2549,\n",
    "    \"sc_h\": 9, \"sc_w\": 7, \"talk_time\": 19, \"three_g\": 0, \"touch_screen\": 0, \"wifi\": 1\n",
    "}\n",
    "\n",
    "# 1. Ubah data ke tf.Example\n",
    "tf_example = _create_tf_example(sample_data)\n",
    "\n",
    "# 2. Serialisasi (ubah menjadi string biner)\n",
    "serialized_example = tf_example.SerializeToString()\n",
    "\n",
    "# 3. Encode ke Base64 agar aman dikirim via JSON\n",
    "encoded_example = base64.b64encode(serialized_example).decode('utf-8')\n",
    "\n",
    "# 4. Buat payload dengan format yang benar\n",
    "# Perhatikan formatnya: {\"b64\": \"...\"}\n",
    "payload = {\n",
    "  \"instances\": [\n",
    "    {\"b64\": encoded_example}\n",
    "  ]\n",
    "}\n",
    "\n",
    "# URL endpoint prediksi\n",
    "url = \"http://localhost:8501/v1/models/mobile-price-model:predict\"\n",
    "\n",
    "# Kirim request POST\n",
    "response = requests.post(url, data=json.dumps(payload))\n",
    "response_json = response.json()\n",
    "\n",
    "# Sekarang, kunci 'predictions' seharusnya sudah ada!\n",
    "predictions = response_json['predictions']\n",
    "predicted_class_index = tf.argmax(predictions[0]).numpy()\n",
    "\n",
    "print(\"Response JSON dari Server:\", response_json)\n",
    "print(\"\\nHasil Prediksi (softmax):\", predictions[0])\n",
    "print(\"Prediksi Kelas Harga (0-3):\", predicted_class_index)"
   ]
  }
 ],
 "metadata": {
  "kernelspec": {
   "display_name": "mlops",
   "language": "python",
   "name": "python3"
  },
  "language_info": {
   "codemirror_mode": {
    "name": "ipython",
    "version": 3
   },
   "file_extension": ".py",
   "mimetype": "text/x-python",
   "name": "python",
   "nbconvert_exporter": "python",
   "pygments_lexer": "ipython3",
   "version": "3.10.18"
  }
 },
 "nbformat": 4,
 "nbformat_minor": 5
}
