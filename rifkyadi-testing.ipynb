{
 "cells": [
  {
   "cell_type": "code",
   "execution_count": 12,
   "id": "0ac11a98",
   "metadata": {},
   "outputs": [
    {
     "name": "stdout",
     "output_type": "stream",
     "text": [
      "Response JSON dari Server: {'predictions': [[0.0011326192179694772, 0.9600496888160706, 0.03881751745939255, 1.356322201218063e-07]]}\n",
      "\n",
      "Hasil Prediksi (softmax): [0.0011326192179694772, 0.9600496888160706, 0.03881751745939255, 1.356322201218063e-07]\n",
      "Prediksi Kelas Harga (0-3): 1\n"
     ]
    }
   ],
   "source": [
    "import requests\n",
    "import json\n",
    "import tensorflow as tf\n",
    "import base64\n",
    "\n",
    "# --- HELPER UNTUK KONVERSI DATA ---\n",
    "# Fungsi ini mengubah kamus Python biasa menjadi format tf.Example\n",
    "def _create_tf_example(features):\n",
    "    feature_map = {}\n",
    "    for key, value in features.items():\n",
    "        if isinstance(value, int):\n",
    "            feature_map[key] = tf.train.Feature(int64_list=tf.train.Int64List(value=[value]))\n",
    "        elif isinstance(value, float):\n",
    "            feature_map[key] = tf.train.Feature(float_list=tf.train.FloatList(value=[value]))\n",
    "        # Anda bisa tambahkan elif untuk string jika ada\n",
    "    return tf.train.Example(features=tf.train.Features(feature=feature_map))\n",
    "\n",
    "\n",
    "# --- KODE UTAMA ---\n",
    "# Data sampel yang akan dikirim\n",
    "sample_data = {\n",
    "    \"battery_power\": 842, \"blue\": 0, \"clock_speed\": 2.2, \"dual_sim\": 0,\n",
    "    \"fc\": 1, \"four_g\": 0, \"int_memory\": 7, \"m_dep\": 0.6, \"mobile_wt\": 188,\n",
    "    \"n_cores\": 2, \"pc\": 2, \"px_height\": 20, \"px_width\": 756, \"ram\": 2549,\n",
    "    \"sc_h\": 9, \"sc_w\": 7, \"talk_time\": 19, \"three_g\": 0, \"touch_screen\": 0, \"wifi\": 1\n",
    "}\n",
    "\n",
    "# 1. Ubah data ke tf.Example\n",
    "tf_example = _create_tf_example(sample_data)\n",
    "\n",
    "# 2. Serialisasi (ubah menjadi string biner)\n",
    "serialized_example = tf_example.SerializeToString()\n",
    "\n",
    "# 3. Encode ke Base64 agar aman dikirim via JSON\n",
    "encoded_example = base64.b64encode(serialized_example).decode('utf-8')\n",
    "\n",
    "# 4. Buat payload dengan format yang benar\n",
    "# Perhatikan formatnya: {\"b64\": \"...\"}\n",
    "payload = {\n",
    "  \"instances\": [\n",
    "    {\"b64\": encoded_example}\n",
    "  ]\n",
    "}\n",
    "\n",
    "# URL endpoint prediksi\n",
    "url = \"https://rifkyadiii-mobile-price-prediction.hf.space/v1/models/mobile-price-model:predict\"\n",
    "\n",
    "# Kirim request POST\n",
    "response = requests.post(url, data=json.dumps(payload))\n",
    "response_json = response.json()\n",
    "\n",
    "# Sekarang, kunci 'predictions' seharusnya sudah ada!\n",
    "predictions = response_json['predictions']\n",
    "predicted_class_index = tf.argmax(predictions[0]).numpy()\n",
    "\n",
    "print(\"Response JSON dari Server:\", response_json)\n",
    "print(\"\\nHasil Prediksi (softmax):\", predictions[0])\n",
    "print(\"Prediksi Kelas Harga (0-3):\", predicted_class_index)"
   ]
  }
 ],
 "metadata": {
  "kernelspec": {
   "display_name": "mlops",
   "language": "python",
   "name": "python3"
  },
  "language_info": {
   "codemirror_mode": {
    "name": "ipython",
    "version": 3
   },
   "file_extension": ".py",
   "mimetype": "text/x-python",
   "name": "python",
   "nbconvert_exporter": "python",
   "pygments_lexer": "ipython3",
   "version": "3.10.18"
  }
 },
 "nbformat": 4,
 "nbformat_minor": 5
}
